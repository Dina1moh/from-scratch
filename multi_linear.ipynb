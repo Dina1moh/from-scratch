{
  "nbformat": 4,
  "nbformat_minor": 0,
  "metadata": {
    "colab": {
      "provenance": []
    },
    "kernelspec": {
      "name": "python3",
      "display_name": "Python 3"
    },
    "language_info": {
      "name": "python"
    }
  },
  "cells": [
    {
      "cell_type": "code",
      "source": [
        "import numpy as np"
      ],
      "metadata": {
        "id": "BNCBcJ9f500_"
      },
      "execution_count": 2,
      "outputs": []
    },
    {
      "cell_type": "code",
      "execution_count": 31,
      "metadata": {
        "id": "RfLM55lq4oe8"
      },
      "outputs": [],
      "source": [
        "class simple_linear_regression():\n",
        "    def __init__(self):\n",
        "        self.w = None\n",
        "        self.b = None\n",
        "\n",
        "    def loss(self,y_pred,y_targ):\n",
        "\n",
        "      total_loss=np.mean(np.square(y_targ-y_pred))*0.5\n",
        "\n",
        "      return total_loss\n",
        "    def gradient_descent(self,lr,y_targ,y_pred):\n",
        "      loss_value=self.loss(y_pred,y_targ)\n",
        "\n",
        "      m=x.shape[0]\n",
        "      dw = (1 / m) * np.dot(x.T, ( y_pred-y_targ ))\n",
        "      db = (1 / m) * np.sum( y_pred-y_targ)\n",
        "      self.w -=lr*dw\n",
        "      self.b -=lr*db\n",
        "\n",
        "      return loss_value\n",
        "    def fit (self,x,y_targ,lr,epochs):\n",
        "      self.features(x)\n",
        "\n",
        "      for i in range(epochs):\n",
        "        y_pred=self.prediction(x)\n",
        "        loss_value=self.gradient_descent(lr,y_targ,y_pred)\n",
        "\n",
        "        if i%100==0:\n",
        "          print(f\"epoch {i},loss {loss_value}\\n\")\n",
        "          print(f\"wight {self.w},bais{self.b}\")\n",
        "    def prediction(self,x):\n",
        "        return np.dot(x,self.w) + self.b\n",
        "    def features(self,x):\n",
        "      num_feature=x.shape[1]\n",
        "      if self.w is None:\n",
        "       self.w=np.random.randn(num_feature,1)\n",
        "       self.b=0\n",
        "      else:\n",
        "       return\n",
        "\n",
        "x = np.random.rand(10,1)\n",
        "y = 5 * x + 4\n",
        "model = simple_linear_regression()\n",
        "\n"
      ]
    },
    {
      "cell_type": "code",
      "source": [
        "model.fit(x, y, lr=0.01, epochs=1000)\n"
      ],
      "metadata": {
        "colab": {
          "base_uri": "https://localhost:8080/"
        },
        "id": "zWuA1rmyHBqG",
        "outputId": "124d7063-b823-438c-e3d4-5fce0fdaafce"
      },
      "execution_count": 34,
      "outputs": [
        {
          "output_type": "stream",
          "name": "stdout",
          "text": [
            "epoch 0,loss 0.02424055924813287\n",
            "\n",
            "wight [[4.14516985]],bais4.513745882347801\n",
            "epoch 100,loss 0.02199063218955082\n",
            "\n",
            "wight [[4.18580699]],bais4.48932329761653\n",
            "epoch 200,loss 0.01994953578199147\n",
            "\n",
            "wight [[4.22451231]],bais4.4660617200351425\n",
            "epoch 300,loss 0.018097887067842794\n",
            "\n",
            "wight [[4.26137764]],bais4.443905957348806\n",
            "epoch 400,loss 0.016418102150329485\n",
            "\n",
            "wight [[4.29649046]],bais4.422803441043733\n",
            "epoch 500,loss 0.01489422921074655\n",
            "\n",
            "wight [[4.32993408]],bais4.40270410162106\n",
            "epoch 600,loss 0.013511797024469308\n",
            "\n",
            "wight [[4.36178785]],bais4.383560249798539\n",
            "epoch 700,loss 0.012257677537198823\n",
            "\n",
            "wight [[4.39212734]],bais4.365326463359324\n",
            "epoch 800,loss 0.011119961196416044\n",
            "\n",
            "wight [[4.42102455]],bais4.347959479379657\n",
            "epoch 900,loss 0.01008784385415127\n",
            "\n",
            "wight [[4.44854803]],bais4.331418091579852\n"
          ]
        }
      ]
    },
    {
      "cell_type": "code",
      "source": [],
      "metadata": {
        "id": "PoMgtx6UArLX"
      },
      "execution_count": 33,
      "outputs": []
    }
  ]
}