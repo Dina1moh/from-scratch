{
  "nbformat": 4,
  "nbformat_minor": 0,
  "metadata": {
    "colab": {
      "provenance": []
    },
    "kernelspec": {
      "name": "python3",
      "display_name": "Python 3"
    },
    "language_info": {
      "name": "python"
    }
  },
  "cells": [
    {
      "cell_type": "code",
      "source": [
        "import numpy as np"
      ],
      "metadata": {
        "id": "L4HUaYsW1xH1"
      },
      "execution_count": 27,
      "outputs": []
    },
    {
      "cell_type": "code",
      "source": [
        "\n",
        "\n",
        "class Cluster:\n",
        "    def __init__(self):\n",
        "        self.centroids = None\n",
        "\n",
        "    def feature(self, X):\n",
        "        n = X.shape[1]\n",
        "        if self.centroids is None:\n",
        "\n",
        "            self.centroids = np.random.rand(self.num_clusters, n)\n",
        "        else:\n",
        "            return\n",
        "\n",
        "    def compute_centroids(self, X):\n",
        "\n",
        "        num_k = self.centroids.shape[0]\n",
        "        indx = np.zeros(X.shape[0], dtype=int)\n",
        "        for i in range(X.shape[0]):\n",
        "            min_distance = float(\"inf\")\n",
        "            closed_cluster = -1\n",
        "            for k in range(num_k):\n",
        "                distance = np.linalg.norm(X[i] - self.centroids[k])\n",
        "                if min_distance > distance:\n",
        "                    min_distance = distance\n",
        "                    closed_cluster = k\n",
        "            indx[i] = closed_cluster\n",
        "        return indx\n",
        "\n",
        "    def update_centroids(self, X):\n",
        "        indx = self.compute_centroids(X)\n",
        "        k = self.centroids.shape[0]\n",
        "        X = np.array(X)\n",
        "        m, n = X.shape\n",
        "        for j in range(k):\n",
        "            points = X[indx == j]\n",
        "            if len(points) > 0:\n",
        "               self.centroids[j] = np.mean(points, axis=0)\n",
        "        return self.centroids\n",
        "\n",
        "    def cost(self, X):\n",
        "        total_cost = 0\n",
        "        indx = self.compute_centroids(X)\n",
        "        self.centroids = self.update_centroids(X)\n",
        "        k = self.centroids.shape[0]\n",
        "        for j in range(k):\n",
        "            points = X[indx == j]\n",
        "            if len(points) > 0:\n",
        "                distance = points - self.centroids[j]\n",
        "                sum_points = np.sum(distance ** 2, axis=1)\n",
        "                total_cost += np.sum(sum_points)\n",
        "        return total_cost\n",
        "\n",
        "    def fit(self, X, num_clusters, epochs):\n",
        "\n",
        "\n",
        "        self.num_clusters = num_clusters\n",
        "        X = np.array(X)\n",
        "        self.feature(X)\n",
        "\n",
        "\n",
        "        self.centroids = np.array(self.centroids)\n",
        "\n",
        "        for i in range(epochs):\n",
        "            self.compute_centroids(X)\n",
        "            centroids_position = self.update_centroids(X)\n",
        "            cost = self.cost(X)\n",
        "            if i % 100 == 0:\n",
        "                print(f\"Centroids Position: {centroids_position} \\n\")\n",
        "                print(f\"Epoch {i}, Cost = {cost} \\n\")\n"
      ],
      "metadata": {
        "id": "3Fm_UmvtBsuR"
      },
      "execution_count": 70,
      "outputs": []
    },
    {
      "cell_type": "code",
      "source": [
        "x=[[0.37454012, 0.95071431],\n",
        " [0.73199394, 0.59865848],\n",
        " [0.15601864, 0.15599452],\n",
        " [0.05808361, 0.86617615],\n",
        " [0.60111501, 0.70807258],\n",
        " [0.02058449, 0.96990985],\n",
        " [0.83244264, 0.21233911],\n",
        " [0.18182497, 0.18340451],\n",
        " [0.30424224, 0.52475643],\n",
        " [0.43194502, 0.29122914]]\n",
        "centroids=[[0.61185289, 0.13949386],\n",
        " [0.29214465, 0.36636184],\n",
        " [0.45606998, 0.78517596]]"
      ],
      "metadata": {
        "id": "DPYdwXne84oL"
      },
      "execution_count": 71,
      "outputs": []
    },
    {
      "cell_type": "code",
      "source": [
        "c1 = Cluster()\n",
        "c1.fit(X, 3, 1000)\n"
      ],
      "metadata": {
        "colab": {
          "base_uri": "https://localhost:8080/"
        },
        "id": "ViA4OEt38avC",
        "outputId": "60820ecf-197b-489c-9cc8-2a2020bfc14f"
      },
      "execution_count": 73,
      "outputs": [
        {
          "output_type": "stream",
          "name": "stdout",
          "text": [
            "Centroids Position: [[0.40055782 0.21074182]\n",
            " [0.66655447 0.65336553]\n",
            " [0.18936262 0.82788918]] \n",
            "\n",
            "Epoch 0, Cost = 0.5417483581758777 \n",
            "\n",
            "Centroids Position: [[0.40055782 0.21074182]\n",
            " [0.66655447 0.65336553]\n",
            " [0.18936262 0.82788918]] \n",
            "\n",
            "Epoch 100, Cost = 0.5417483581758777 \n",
            "\n",
            "Centroids Position: [[0.40055782 0.21074182]\n",
            " [0.66655447 0.65336553]\n",
            " [0.18936262 0.82788918]] \n",
            "\n",
            "Epoch 200, Cost = 0.5417483581758777 \n",
            "\n",
            "Centroids Position: [[0.40055782 0.21074182]\n",
            " [0.66655447 0.65336553]\n",
            " [0.18936262 0.82788918]] \n",
            "\n",
            "Epoch 300, Cost = 0.5417483581758777 \n",
            "\n",
            "Centroids Position: [[0.40055782 0.21074182]\n",
            " [0.66655447 0.65336553]\n",
            " [0.18936262 0.82788918]] \n",
            "\n",
            "Epoch 400, Cost = 0.5417483581758777 \n",
            "\n",
            "Centroids Position: [[0.40055782 0.21074182]\n",
            " [0.66655447 0.65336553]\n",
            " [0.18936262 0.82788918]] \n",
            "\n",
            "Epoch 500, Cost = 0.5417483581758777 \n",
            "\n",
            "Centroids Position: [[0.40055782 0.21074182]\n",
            " [0.66655447 0.65336553]\n",
            " [0.18936262 0.82788918]] \n",
            "\n",
            "Epoch 600, Cost = 0.5417483581758777 \n",
            "\n",
            "Centroids Position: [[0.40055782 0.21074182]\n",
            " [0.66655447 0.65336553]\n",
            " [0.18936262 0.82788918]] \n",
            "\n",
            "Epoch 700, Cost = 0.5417483581758777 \n",
            "\n",
            "Centroids Position: [[0.40055782 0.21074182]\n",
            " [0.66655447 0.65336553]\n",
            " [0.18936262 0.82788918]] \n",
            "\n",
            "Epoch 800, Cost = 0.5417483581758777 \n",
            "\n",
            "Centroids Position: [[0.40055782 0.21074182]\n",
            " [0.66655447 0.65336553]\n",
            " [0.18936262 0.82788918]] \n",
            "\n",
            "Epoch 900, Cost = 0.5417483581758777 \n",
            "\n"
          ]
        }
      ]
    }
  ]
}