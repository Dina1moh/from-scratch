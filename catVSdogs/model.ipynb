{
  "cells": [
    {
      "cell_type": "code",
      "execution_count": 1,
      "metadata": {
        "id": "5gJ1HvdZg9k1"
      },
      "outputs": [],
      "source": [
        "import os\n",
        "import zipfile\n",
        "import urllib.request\n",
        "import tensorflow as tf\n",
        "import keras\n",
        "from tensorflow.keras.preprocessing.image import ImageDataGenerator\n",
        "from tensorflow.keras.models import Sequential\n",
        "from google.colab import files\n",
        "\n",
        "from tensorflow.keras.layers import Conv2D, MaxPooling2D, Flatten, Dense, Dropout ,BatchNormalization"
      ]
    },
    {
      "cell_type": "code",
      "execution_count": 2,
      "metadata": {
        "colab": {
          "base_uri": "https://localhost:8080/"
        },
        "id": "PGDiMV0wq8j2",
        "outputId": "23ce0dd8-faf2-4ef2-ff6b-d9136f9b5ebc"
      },
      "outputs": [
        {
          "name": "stdout",
          "output_type": "stream",
          "text": [
            "Requirement already satisfied: tensorflow in /usr/local/lib/python3.10/dist-packages (2.15.0)\n",
            "Requirement already satisfied: absl-py>=1.0.0 in /usr/local/lib/python3.10/dist-packages (from tensorflow) (1.4.0)\n",
            "Requirement already satisfied: astunparse>=1.6.0 in /usr/local/lib/python3.10/dist-packages (from tensorflow) (1.6.3)\n",
            "Requirement already satisfied: flatbuffers>=23.5.26 in /usr/local/lib/python3.10/dist-packages (from tensorflow) (24.3.25)\n",
            "Requirement already satisfied: gast!=0.5.0,!=0.5.1,!=0.5.2,>=0.2.1 in /usr/local/lib/python3.10/dist-packages (from tensorflow) (0.6.0)\n",
            "Requirement already satisfied: google-pasta>=0.1.1 in /usr/local/lib/python3.10/dist-packages (from tensorflow) (0.2.0)\n",
            "Requirement already satisfied: h5py>=2.9.0 in /usr/local/lib/python3.10/dist-packages (from tensorflow) (3.11.0)\n",
            "Requirement already satisfied: libclang>=13.0.0 in /usr/local/lib/python3.10/dist-packages (from tensorflow) (18.1.1)\n",
            "Requirement already satisfied: ml-dtypes~=0.2.0 in /usr/local/lib/python3.10/dist-packages (from tensorflow) (0.2.0)\n",
            "Requirement already satisfied: numpy<2.0.0,>=1.23.5 in /usr/local/lib/python3.10/dist-packages (from tensorflow) (1.26.4)\n",
            "Requirement already satisfied: opt-einsum>=2.3.2 in /usr/local/lib/python3.10/dist-packages (from tensorflow) (3.3.0)\n",
            "Requirement already satisfied: packaging in /usr/local/lib/python3.10/dist-packages (from tensorflow) (24.1)\n",
            "Requirement already satisfied: protobuf!=4.21.0,!=4.21.1,!=4.21.2,!=4.21.3,!=4.21.4,!=4.21.5,<5.0.0dev,>=3.20.3 in /usr/local/lib/python3.10/dist-packages (from tensorflow) (3.20.3)\n",
            "Requirement already satisfied: setuptools in /usr/local/lib/python3.10/dist-packages (from tensorflow) (71.0.4)\n",
            "Requirement already satisfied: six>=1.12.0 in /usr/local/lib/python3.10/dist-packages (from tensorflow) (1.16.0)\n",
            "Requirement already satisfied: termcolor>=1.1.0 in /usr/local/lib/python3.10/dist-packages (from tensorflow) (2.4.0)\n",
            "Requirement already satisfied: typing-extensions>=3.6.6 in /usr/local/lib/python3.10/dist-packages (from tensorflow) (4.12.2)\n",
            "Requirement already satisfied: wrapt<1.15,>=1.11.0 in /usr/local/lib/python3.10/dist-packages (from tensorflow) (1.14.1)\n",
            "Requirement already satisfied: tensorflow-io-gcs-filesystem>=0.23.1 in /usr/local/lib/python3.10/dist-packages (from tensorflow) (0.37.1)\n",
            "Requirement already satisfied: grpcio<2.0,>=1.24.3 in /usr/local/lib/python3.10/dist-packages (from tensorflow) (1.64.1)\n",
            "Requirement already satisfied: tensorboard<2.16,>=2.15 in /usr/local/lib/python3.10/dist-packages (from tensorflow) (2.15.2)\n",
            "Requirement already satisfied: tensorflow-estimator<2.16,>=2.15.0 in /usr/local/lib/python3.10/dist-packages (from tensorflow) (2.15.0)\n",
            "Requirement already satisfied: keras<2.16,>=2.15.0 in /usr/local/lib/python3.10/dist-packages (from tensorflow) (2.15.0)\n",
            "Requirement already satisfied: wheel<1.0,>=0.23.0 in /usr/local/lib/python3.10/dist-packages (from astunparse>=1.6.0->tensorflow) (0.43.0)\n",
            "Requirement already satisfied: google-auth<3,>=1.6.3 in /usr/local/lib/python3.10/dist-packages (from tensorboard<2.16,>=2.15->tensorflow) (2.27.0)\n",
            "Requirement already satisfied: google-auth-oauthlib<2,>=0.5 in /usr/local/lib/python3.10/dist-packages (from tensorboard<2.16,>=2.15->tensorflow) (1.2.1)\n",
            "Requirement already satisfied: markdown>=2.6.8 in /usr/local/lib/python3.10/dist-packages (from tensorboard<2.16,>=2.15->tensorflow) (3.6)\n",
            "Requirement already satisfied: requests<3,>=2.21.0 in /usr/local/lib/python3.10/dist-packages (from tensorboard<2.16,>=2.15->tensorflow) (2.31.0)\n",
            "Requirement already satisfied: tensorboard-data-server<0.8.0,>=0.7.0 in /usr/local/lib/python3.10/dist-packages (from tensorboard<2.16,>=2.15->tensorflow) (0.7.2)\n",
            "Requirement already satisfied: werkzeug>=1.0.1 in /usr/local/lib/python3.10/dist-packages (from tensorboard<2.16,>=2.15->tensorflow) (3.0.3)\n",
            "Requirement already satisfied: cachetools<6.0,>=2.0.0 in /usr/local/lib/python3.10/dist-packages (from google-auth<3,>=1.6.3->tensorboard<2.16,>=2.15->tensorflow) (5.4.0)\n",
            "Requirement already satisfied: pyasn1-modules>=0.2.1 in /usr/local/lib/python3.10/dist-packages (from google-auth<3,>=1.6.3->tensorboard<2.16,>=2.15->tensorflow) (0.4.0)\n",
            "Requirement already satisfied: rsa<5,>=3.1.4 in /usr/local/lib/python3.10/dist-packages (from google-auth<3,>=1.6.3->tensorboard<2.16,>=2.15->tensorflow) (4.9)\n",
            "Requirement already satisfied: requests-oauthlib>=0.7.0 in /usr/local/lib/python3.10/dist-packages (from google-auth-oauthlib<2,>=0.5->tensorboard<2.16,>=2.15->tensorflow) (1.3.1)\n",
            "Requirement already satisfied: charset-normalizer<4,>=2 in /usr/local/lib/python3.10/dist-packages (from requests<3,>=2.21.0->tensorboard<2.16,>=2.15->tensorflow) (3.3.2)\n",
            "Requirement already satisfied: idna<4,>=2.5 in /usr/local/lib/python3.10/dist-packages (from requests<3,>=2.21.0->tensorboard<2.16,>=2.15->tensorflow) (3.7)\n",
            "Requirement already satisfied: urllib3<3,>=1.21.1 in /usr/local/lib/python3.10/dist-packages (from requests<3,>=2.21.0->tensorboard<2.16,>=2.15->tensorflow) (2.0.7)\n",
            "Requirement already satisfied: certifi>=2017.4.17 in /usr/local/lib/python3.10/dist-packages (from requests<3,>=2.21.0->tensorboard<2.16,>=2.15->tensorflow) (2024.7.4)\n",
            "Requirement already satisfied: MarkupSafe>=2.1.1 in /usr/local/lib/python3.10/dist-packages (from werkzeug>=1.0.1->tensorboard<2.16,>=2.15->tensorflow) (2.1.5)\n",
            "Requirement already satisfied: pyasn1<0.7.0,>=0.4.6 in /usr/local/lib/python3.10/dist-packages (from pyasn1-modules>=0.2.1->google-auth<3,>=1.6.3->tensorboard<2.16,>=2.15->tensorflow) (0.6.0)\n",
            "Requirement already satisfied: oauthlib>=3.0.0 in /usr/local/lib/python3.10/dist-packages (from requests-oauthlib>=0.7.0->google-auth-oauthlib<2,>=0.5->tensorboard<2.16,>=2.15->tensorflow) (3.2.2)\n"
          ]
        }
      ],
      "source": [
        "pip install tensorflow\n"
      ]
    },
    {
      "cell_type": "code",
      "execution_count": 3,
      "metadata": {
        "id": "ml6GjzpThLh5"
      },
      "outputs": [],
      "source": [
        "# URL of the dataset\n",
        "url = \"https://download.microsoft.com/download/3/E/1/3E1C3F21-ECDB-4869-8368-6DEBA77B919F/kagglecatsanddogs_5340.zip\"\n",
        "output_zip = \"kagglecatsanddogs_5340.zip\""
      ]
    },
    {
      "cell_type": "code",
      "execution_count": 4,
      "metadata": {
        "colab": {
          "base_uri": "https://localhost:8080/"
        },
        "id": "p88Z99gEhnEq",
        "outputId": "2d064f49-43be-4cb9-93fb-fd1cacc613cf"
      },
      "outputs": [
        {
          "data": {
            "text/plain": [
              "['CDLA-Permissive-2.0.pdf', 'readme[1].txt', 'PetImages']"
            ]
          },
          "execution_count": 4,
          "metadata": {},
          "output_type": "execute_result"
        }
      ],
      "source": [
        "# Download the dataset\n",
        "urllib.request.urlretrieve(url, output_zip)\n",
        "\n",
        "# Unzip the dataset\n",
        "with zipfile.ZipFile(output_zip, 'r') as zip_ref:\n",
        "    zip_ref.extractall(\"cats_and_dogs\")\n",
        "\n",
        "# Check the extracted files\n",
        "os.listdir(\"cats_and_dogs\")"
      ]
    },
    {
      "cell_type": "code",
      "execution_count": 5,
      "metadata": {
        "colab": {
          "base_uri": "https://localhost:8080/"
        },
        "id": "H2D2i_A9mavf",
        "outputId": "9f055e33-996c-4380-96db-a0580b184e4f"
      },
      "outputs": [
        {
          "name": "stdout",
          "output_type": "stream",
          "text": [
            "Extracted folders: ['CDLA-Permissive-2.0.pdf', 'readme[1].txt', 'PetImages']\n"
          ]
        }
      ],
      "source": [
        "print(\"Extracted folders:\", os.listdir(\"cats_and_dogs\"))\n"
      ]
    },
    {
      "cell_type": "code",
      "execution_count": 6,
      "metadata": {
        "id": "hWQIBCbUmn3c"
      },
      "outputs": [],
      "source": [
        "# Set the paths\n",
        "base_dir = 'cats_and_dogs/PetImages'\n",
        "cats_dir = os.path.join(base_dir, 'Cat')\n",
        "dogs_dir = os.path.join(base_dir, 'Dog')"
      ]
    },
    {
      "cell_type": "code",
      "execution_count": 7,
      "metadata": {
        "colab": {
          "base_uri": "https://localhost:8080/"
        },
        "id": "_abpChWGmtzh",
        "outputId": "1193709c-efe7-425d-8ccf-604789fce960"
      },
      "outputs": [
        {
          "name": "stdout",
          "output_type": "stream",
          "text": [
            "Number of cat images: 12501\n",
            "Number of dog images: 12501\n"
          ]
        }
      ],
      "source": [
        "# Check the number of images in each category\n",
        "print(\"Number of cat images:\", len(os.listdir(cats_dir)))\n",
        "print(\"Number of dog images:\", len(os.listdir(dogs_dir)))\n"
      ]
    },
    {
      "cell_type": "code",
      "execution_count": 8,
      "metadata": {
        "colab": {
          "base_uri": "https://localhost:8080/"
        },
        "id": "_vrNQNsUqXmu",
        "outputId": "5f3c25c6-ca80-407e-e8c0-db833174faa9"
      },
      "outputs": [
        {
          "name": "stdout",
          "output_type": "stream",
          "text": [
            "Deleted 2 corrupted images from cats_and_dogs/PetImages/Cat\n"
          ]
        },
        {
          "name": "stderr",
          "output_type": "stream",
          "text": [
            "/usr/local/lib/python3.10/dist-packages/PIL/TiffImagePlugin.py:858: UserWarning: Truncated File Read\n",
            "  warnings.warn(str(msg))\n"
          ]
        },
        {
          "name": "stdout",
          "output_type": "stream",
          "text": [
            "Deleted 2 corrupted images from cats_and_dogs/PetImages/Dog\n"
          ]
        }
      ],
      "source": [
        "def remove_corrupted_images(folder):\n",
        "    num_skipped = 0\n",
        "    for filename in os.listdir(folder):\n",
        "        file_path = os.path.join(folder, filename)\n",
        "        try:\n",
        "            img = tf.keras.preprocessing.image.load_img(file_path)\n",
        "        except Exception as e:\n",
        "            num_skipped += 1\n",
        "            os.remove(file_path)\n",
        "    print(f\"Deleted {num_skipped} corrupted images from {folder}\")\n",
        "\n",
        "remove_corrupted_images(cats_dir)\n",
        "remove_corrupted_images(dogs_dir)"
      ]
    },
    {
      "cell_type": "code",
      "execution_count": 9,
      "metadata": {
        "id": "eOgbGzZdsTE2"
      },
      "outputs": [],
      "source": [
        "# Data preprocessing\n",
        "img_height,img_width = 150, 150\n",
        "batch_size = 32"
      ]
    },
    {
      "cell_type": "code",
      "execution_count": 10,
      "metadata": {
        "colab": {
          "base_uri": "https://localhost:8080/"
        },
        "id": "vNY5WBTlsUgo",
        "outputId": "58388bb3-1551-4f4e-ab0b-8d80a296f375"
      },
      "outputs": [
        {
          "name": "stdout",
          "output_type": "stream",
          "text": [
            "Found 20000 images belonging to 2 classes.\n",
            "Found 4998 images belonging to 2 classes.\n",
            "Training set size: 20000\n",
            "Validation set size: 4998\n"
          ]
        }
      ],
      "source": [
        "# Create ImageDataGenerator for training and validation\n",
        "train_datagen = ImageDataGenerator(\n",
        "    rescale=1./255,\n",
        "    validation_split=0.2,\n",
        "    shear_range = 0.2,\n",
        "     zoom_range = 0.2,\n",
        "     horizontal_flip = True\n",
        ")\n",
        "\n",
        "train_generator = train_datagen.flow_from_directory(\n",
        "    base_dir,\n",
        "    target_size=(img_height, img_width),\n",
        "    batch_size=batch_size,\n",
        "    class_mode='binary',\n",
        "    subset='training'\n",
        ")\n",
        "\n",
        "validation_generator = train_datagen.flow_from_directory(\n",
        "    base_dir,\n",
        "    target_size=(img_height, img_width),\n",
        "    batch_size=batch_size,\n",
        "    class_mode='binary',\n",
        "    subset='validation'\n",
        ")\n",
        "\n",
        "print(\"Training set size:\", train_generator.samples)\n",
        "print(\"Validation set size:\", validation_generator.samples)"
      ]
    },
    {
      "cell_type": "code",
      "execution_count": 11,
      "metadata": {
        "colab": {
          "base_uri": "https://localhost:8080/"
        },
        "id": "1z8UrUtjD5UD",
        "outputId": "8109b336-86c4-49bd-a19d-42249cd4e731"
      },
      "outputs": [
        {
          "name": "stdout",
          "output_type": "stream",
          "text": [
            "Model: \"sequential\"\n",
            "_________________________________________________________________\n",
            " Layer (type)                Output Shape              Param #   \n",
            "=================================================================\n",
            " conv2d (Conv2D)             (None, 148, 148, 32)      896       \n",
            "                                                                 \n",
            " max_pooling2d (MaxPooling2  (None, 74, 74, 32)        0         \n",
            " D)                                                              \n",
            "                                                                 \n",
            " batch_normalization (Batch  (None, 74, 74, 32)        128       \n",
            " Normalization)                                                  \n",
            "                                                                 \n",
            " dropout (Dropout)           (None, 74, 74, 32)        0         \n",
            "                                                                 \n",
            " conv2d_1 (Conv2D)           (None, 72, 72, 64)        18496     \n",
            "                                                                 \n",
            " max_pooling2d_1 (MaxPoolin  (None, 36, 36, 64)        0         \n",
            " g2D)                                                            \n",
            "                                                                 \n",
            " batch_normalization_1 (Bat  (None, 36, 36, 64)        256       \n",
            " chNormalization)                                                \n",
            "                                                                 \n",
            " dropout_1 (Dropout)         (None, 36, 36, 64)        0         \n",
            "                                                                 \n",
            " conv2d_2 (Conv2D)           (None, 34, 34, 128)       73856     \n",
            "                                                                 \n",
            " max_pooling2d_2 (MaxPoolin  (None, 17, 17, 128)       0         \n",
            " g2D)                                                            \n",
            "                                                                 \n",
            " batch_normalization_2 (Bat  (None, 17, 17, 128)       512       \n",
            " chNormalization)                                                \n",
            "                                                                 \n",
            " dropout_2 (Dropout)         (None, 17, 17, 128)       0         \n",
            "                                                                 \n",
            " conv2d_3 (Conv2D)           (None, 15, 15, 256)       295168    \n",
            "                                                                 \n",
            " max_pooling2d_3 (MaxPoolin  (None, 7, 7, 256)         0         \n",
            " g2D)                                                            \n",
            "                                                                 \n",
            " batch_normalization_3 (Bat  (None, 7, 7, 256)         1024      \n",
            " chNormalization)                                                \n",
            "                                                                 \n",
            " dropout_3 (Dropout)         (None, 7, 7, 256)         0         \n",
            "                                                                 \n",
            " conv2d_4 (Conv2D)           (None, 5, 5, 512)         1180160   \n",
            "                                                                 \n",
            " max_pooling2d_4 (MaxPoolin  (None, 2, 2, 512)         0         \n",
            " g2D)                                                            \n",
            "                                                                 \n",
            " batch_normalization_4 (Bat  (None, 2, 2, 512)         2048      \n",
            " chNormalization)                                                \n",
            "                                                                 \n",
            " dropout_4 (Dropout)         (None, 2, 2, 512)         0         \n",
            "                                                                 \n",
            " flatten (Flatten)           (None, 2048)              0         \n",
            "                                                                 \n",
            " dense (Dense)               (None, 512)               1049088   \n",
            "                                                                 \n",
            " batch_normalization_5 (Bat  (None, 512)               2048      \n",
            " chNormalization)                                                \n",
            "                                                                 \n",
            " dropout_5 (Dropout)         (None, 512)               0         \n",
            "                                                                 \n",
            " dense_1 (Dense)             (None, 1)                 513       \n",
            "                                                                 \n",
            "=================================================================\n",
            "Total params: 2624193 (10.01 MB)\n",
            "Trainable params: 2621185 (10.00 MB)\n",
            "Non-trainable params: 3008 (11.75 KB)\n",
            "_________________________________________________________________\n"
          ]
        }
      ],
      "source": [
        "model=Sequential([\n",
        "\n",
        "    Conv2D(32,(3,3),activation=\"relu\",input_shape=(img_height,img_width,3)),\n",
        "    MaxPooling2D(pool_size=(2,2)),\n",
        "    BatchNormalization(),\n",
        "    Dropout(0.2) ,\n",
        "\n",
        "    Conv2D(64,(3,3),activation=\"relu\"),\n",
        "    MaxPooling2D(pool_size=(2,2)),\n",
        "    BatchNormalization(),\n",
        "    Dropout(0.2),\n",
        "\n",
        "    Conv2D(128,(3,3),activation=\"relu\"),\n",
        "    MaxPooling2D(pool_size=(2,2)),\n",
        "    BatchNormalization(),\n",
        "    Dropout(0.2),\n",
        "\n",
        "    Conv2D(256,(3,3),activation=\"relu\"),\n",
        "    MaxPooling2D(pool_size=(2,2)),\n",
        "    BatchNormalization(),\n",
        "    Dropout(0.2),\n",
        "\n",
        "    Conv2D(512,(3,3),activation=\"relu\"),\n",
        "    MaxPooling2D(pool_size=(2,2)),\n",
        "    BatchNormalization(),\n",
        "    Dropout(0.2),\n",
        "\n",
        "    Flatten(),\n",
        "\n",
        "    Dense(512,activation=\"relu\"),\n",
        "    BatchNormalization(),\n",
        "    Dropout(0.2),\n",
        "    Dense(1,activation=\"sigmoid\"),\n",
        "\n",
        "])\n",
        "model.compile(optimizer='adam', loss='binary_crossentropy', metrics=['accuracy'])\n",
        "model.summary()"
      ]
    },
    {
      "cell_type": "code",
      "execution_count": 12,
      "metadata": {
        "colab": {
          "base_uri": "https://localhost:8080/"
        },
        "id": "_tWB6GSIKdqG",
        "outputId": "de6d75e1-601b-4ded-b21e-41de0cecfc14"
      },
      "outputs": [
        {
          "name": "stdout",
          "output_type": "stream",
          "text": [
            "Epoch 1/23\n",
            "625/625 [==============================] - 194s 287ms/step - loss: 0.6759 - accuracy: 0.6503 - val_loss: 0.6977 - val_accuracy: 0.6116\n",
            "Epoch 2/23\n",
            "625/625 [==============================] - 167s 267ms/step - loss: 0.5091 - accuracy: 0.7527 - val_loss: 0.4827 - val_accuracy: 0.7708\n",
            "Epoch 3/23\n",
            "625/625 [==============================] - 179s 286ms/step - loss: 0.4141 - accuracy: 0.8072 - val_loss: 0.6223 - val_accuracy: 0.6855\n",
            "Epoch 4/23\n",
            "625/625 [==============================] - 173s 277ms/step - loss: 0.3500 - accuracy: 0.8454 - val_loss: 0.6085 - val_accuracy: 0.7490\n",
            "Epoch 5/23\n",
            "625/625 [==============================] - 181s 289ms/step - loss: 0.2987 - accuracy: 0.8712 - val_loss: 0.2894 - val_accuracy: 0.8720\n",
            "Epoch 6/23\n",
            "625/625 [==============================] - 180s 288ms/step - loss: 0.2661 - accuracy: 0.8870 - val_loss: 0.5707 - val_accuracy: 0.7849\n",
            "Epoch 7/23\n",
            "625/625 [==============================] - 181s 290ms/step - loss: 0.2442 - accuracy: 0.8961 - val_loss: 0.2866 - val_accuracy: 0.8728\n",
            "Epoch 8/23\n",
            "625/625 [==============================] - 178s 285ms/step - loss: 0.2326 - accuracy: 0.9012 - val_loss: 0.3062 - val_accuracy: 0.8588\n",
            "Epoch 9/23\n",
            "625/625 [==============================] - 176s 282ms/step - loss: 0.2153 - accuracy: 0.9106 - val_loss: 0.2657 - val_accuracy: 0.8832\n",
            "Epoch 10/23\n",
            "625/625 [==============================] - 177s 283ms/step - loss: 0.2071 - accuracy: 0.9140 - val_loss: 0.2299 - val_accuracy: 0.9060\n",
            "Epoch 11/23\n",
            "625/625 [==============================] - 178s 284ms/step - loss: 0.1923 - accuracy: 0.9194 - val_loss: 0.2346 - val_accuracy: 0.8988\n",
            "Epoch 12/23\n",
            "625/625 [==============================] - 177s 283ms/step - loss: 0.1840 - accuracy: 0.9251 - val_loss: 0.1882 - val_accuracy: 0.9243\n",
            "Epoch 13/23\n",
            "625/625 [==============================] - 169s 270ms/step - loss: 0.1823 - accuracy: 0.9245 - val_loss: 0.1906 - val_accuracy: 0.9219\n",
            "Epoch 14/23\n",
            "625/625 [==============================] - 179s 286ms/step - loss: 0.1638 - accuracy: 0.9330 - val_loss: 0.1672 - val_accuracy: 0.9331\n",
            "Epoch 15/23\n",
            "625/625 [==============================] - 168s 269ms/step - loss: 0.1668 - accuracy: 0.9330 - val_loss: 0.2195 - val_accuracy: 0.9058\n",
            "Epoch 16/23\n",
            "625/625 [==============================] - 178s 284ms/step - loss: 0.1566 - accuracy: 0.9355 - val_loss: 0.3851 - val_accuracy: 0.8345\n",
            "Epoch 17/23\n",
            "625/625 [==============================] - 177s 284ms/step - loss: 0.1542 - accuracy: 0.9373 - val_loss: 0.2327 - val_accuracy: 0.8976\n",
            "Epoch 18/23\n",
            "625/625 [==============================] - 178s 285ms/step - loss: 0.1490 - accuracy: 0.9396 - val_loss: 0.2254 - val_accuracy: 0.9036\n",
            "Epoch 19/23\n",
            "625/625 [==============================] - 168s 268ms/step - loss: 0.1393 - accuracy: 0.9430 - val_loss: 0.2330 - val_accuracy: 0.9032\n",
            "Epoch 20/23\n",
            "625/625 [==============================] - 166s 265ms/step - loss: 0.1416 - accuracy: 0.9432 - val_loss: 0.1796 - val_accuracy: 0.9257\n",
            "Epoch 21/23\n",
            "625/625 [==============================] - 167s 267ms/step - loss: 0.1357 - accuracy: 0.9444 - val_loss: 0.2151 - val_accuracy: 0.9143\n",
            "Epoch 22/23\n",
            "625/625 [==============================] - 166s 266ms/step - loss: 0.1315 - accuracy: 0.9467 - val_loss: 0.1700 - val_accuracy: 0.9325\n",
            "Epoch 23/23\n",
            "625/625 [==============================] - 178s 285ms/step - loss: 0.1264 - accuracy: 0.9500 - val_loss: 0.1667 - val_accuracy: 0.9345\n"
          ]
        }
      ],
      "source": [
        "epochs=23\n",
        "history=model.fit(\n",
        "    train_generator,\n",
        "    steps_per_epoch=train_generator.samples// batch_size,\n",
        "    validation_data=validation_generator,\n",
        "    validation_steps=validation_generator.samples//batch_size,\n",
        "    epochs=epochs\n",
        ")"
      ]
    },
    {
      "cell_type": "code",
      "execution_count": 13,
      "metadata": {
        "colab": {
          "base_uri": "https://localhost:8080/"
        },
        "id": "vaJtZMRKlv8l",
        "outputId": "8c75df99-746a-4745-f13b-c0ac5ada0456"
      },
      "outputs": [
        {
          "name": "stderr",
          "output_type": "stream",
          "text": [
            "/usr/local/lib/python3.10/dist-packages/keras/src/engine/training.py:3103: UserWarning: You are saving your model as an HDF5 file via `model.save()`. This file format is considered legacy. We recommend using instead the native Keras format, e.g. `model.save('my_model.keras')`.\n",
            "  saving_api.save_model(\n"
          ]
        }
      ],
      "source": [
        "model.save(\"model.h5\")"
      ]
    },
    {
      "cell_type": "code",
      "execution_count": 14,
      "metadata": {
        "colab": {
          "base_uri": "https://localhost:8080/",
          "height": 17
        },
        "id": "g5PhUsLrCeYc",
        "outputId": "0fb97d51-1014-4181-e2b6-76091af8f3b9"
      },
      "outputs": [
        {
          "data": {
            "application/javascript": "\n    async function download(id, filename, size) {\n      if (!google.colab.kernel.accessAllowed) {\n        return;\n      }\n      const div = document.createElement('div');\n      const label = document.createElement('label');\n      label.textContent = `Downloading \"${filename}\": `;\n      div.appendChild(label);\n      const progress = document.createElement('progress');\n      progress.max = size;\n      div.appendChild(progress);\n      document.body.appendChild(div);\n\n      const buffers = [];\n      let downloaded = 0;\n\n      const channel = await google.colab.kernel.comms.open(id);\n      // Send a message to notify the kernel that we're ready.\n      channel.send({})\n\n      for await (const message of channel.messages) {\n        // Send a message to notify the kernel that we're ready.\n        channel.send({})\n        if (message.buffers) {\n          for (const buffer of message.buffers) {\n            buffers.push(buffer);\n            downloaded += buffer.byteLength;\n            progress.value = downloaded;\n          }\n        }\n      }\n      const blob = new Blob(buffers, {type: 'application/binary'});\n      const a = document.createElement('a');\n      a.href = window.URL.createObjectURL(blob);\n      a.download = filename;\n      div.appendChild(a);\n      a.click();\n      div.remove();\n    }\n  ",
            "text/plain": [
              "<IPython.core.display.Javascript object>"
            ]
          },
          "metadata": {},
          "output_type": "display_data"
        },
        {
          "data": {
            "application/javascript": "download(\"download_fc22a812-7b47-4d5e-88c3-901085c87c16\", \"model.h5\", 31594792)",
            "text/plain": [
              "<IPython.core.display.Javascript object>"
            ]
          },
          "metadata": {},
          "output_type": "display_data"
        }
      ],
      "source": [
        "files.download('model.h5')"
      ]
    },
    {
      "cell_type": "code",
      "execution_count": 15,
      "metadata": {
        "colab": {
          "base_uri": "https://localhost:8080/"
        },
        "id": "9ecynOcsCeb9",
        "outputId": "5a24bd7c-7a11-4f34-c811-6390e7e8723e"
      },
      "outputs": [
        {
          "name": "stdout",
          "output_type": "stream",
          "text": [
            "156/156 [==============================] - 37s 238ms/step - loss: 0.1612 - accuracy: 0.9351\n",
            "validation accuracy:93.51\n"
          ]
        }
      ],
      "source": [
        "loss,accuracy=model.evaluate(validation_generator,steps=validation_generator.samples//batch_size)\n",
        "print(f\"validation accuracy:{accuracy * 100:.2f}\")"
      ]
    },
    {
      "cell_type": "code",
      "execution_count": 16,
      "metadata": {
        "colab": {
          "base_uri": "https://localhost:8080/",
          "height": 410
        },
        "id": "34AwskDhVWyd",
        "outputId": "a30728c6-5220-4305-df99-bbd752bb9fb3"
      },
      "outputs": [
        {
          "data": {
            "image/png": "[encoded data removed]",
            "text/plain": [
              "<Figure size 1200x400 with 2 Axes>"
            ]
          },
          "metadata": {},
          "output_type": "display_data"
        }
      ],
      "source": [
        "import matplotlib.pyplot as plt\n",
        "\n",
        "# Plot training & validation accuracy values\n",
        "plt.figure(figsize=(12, 4))\n",
        "plt.subplot(1, 2, 1)\n",
        "plt.plot(history.history['accuracy'])\n",
        "plt.plot(history.history['val_accuracy'])\n",
        "plt.title('Model accuracy')\n",
        "plt.xlabel('Epoch')\n",
        "plt.ylabel('Accuracy')\n",
        "plt.legend(['Train', 'Validation'], loc='upper left')\n",
        "\n",
        "# Plot training & validation loss values\n",
        "plt.subplot(1, 2, 2)\n",
        "plt.plot(history.history['loss'])\n",
        "plt.plot(history.history['val_loss'])\n",
        "plt.title('Model loss')\n",
        "plt.xlabel('Epoch')\n",
        "plt.ylabel('Loss')\n",
        "plt.legend(['Train', 'Validation'], loc='upper left')\n",
        "\n",
        "plt.show()\n"
      ]
    }
  ],
  "metadata": {
    "accelerator": "GPU",
    "colab": {
      "gpuType": "T4",
      "provenance": []
    },
    "kernelspec": {
      "display_name": "Python 3",
      "name": "python3"
    },
    "language_info": {
      "name": "python"
    }
  },
  "nbformat": 4,
  "nbformat_minor": 0
}
