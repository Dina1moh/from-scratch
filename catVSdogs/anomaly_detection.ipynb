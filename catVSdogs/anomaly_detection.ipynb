{
 "cells": [
  {
   "cell_type": "code",
   "execution_count": 2,
   "metadata": {
    "id": "5vKAQVB4UVe6"
   },
   "outputs": [],
   "source": [
    "import numpy as np\n",
    "import matplotlib.pyplot as plt\n",
    "import numpy as np\n",
    "from sklearn.model_selection import train_test_split"
   ]
  },
  {
   "cell_type": "code",
   "execution_count": 17,
   "metadata": {
    "id": "-IZUh4uhUVLK"
   },
   "outputs": [],
   "source": [
    "class anomaly_detection:\n",
    "    def __init__(self):\n",
    "      # Mean of the features\n",
    "      self.mu = None\n",
    "      # Variance of the features\n",
    "      self.var = None\n",
    "\n",
    "      # Initialize variable for the anomaly detection threshold (epsilon)\n",
    "      self.best_epsilon = None\n",
    "\n",
    "      # Initialize variable for best F1 score\n",
    "      self.best_F1 = 0\n",
    "\n",
    "\n",
    "\n",
    "    def generate_synthetic_data(self,num_normal=1000, num_anomalies=50):\n",
    "        mu_normal = [7, 5]  # Mean of the normal data\n",
    "        cov_normal = [[1, 0], [0, 1]]  # Covariance of the normal data\n",
    "        X_normal = np.random.multivariate_normal(mu_normal, cov_normal, num_normal)\n",
    "\n",
    "        # Generate anomaly data (e.g., random points far from the mean)\n",
    "        X_anomalies = np.random.uniform(low=10, high=15, size=(num_anomalies, 2))\n",
    "\n",
    "        # Combine the normal data and anomalies\n",
    "        X = np.vstack((X_normal, X_anomalies))\n",
    "\n",
    "        # Labels: 0 for normal, 1 for anomalies\n",
    "        y = np.hstack((np.zeros(num_normal), np.ones(num_anomalies)))\n",
    "\n",
    "        return X, y\n",
    "    def cross_vlidation(self):\n",
    "      X,y=self.generate_synthetic_data()\n",
    "      X_train, X_val, y_train, y_val = train_test_split(X, y, test_size=0.2, random_state=42)\n",
    "      self.mu ,self.var=self.estimate_gaussian(X_train)\n",
    "\n",
    "      p_val=self.multivariate_gaussian(X_val)\n",
    "      return p_val ,X_val,y_val\n",
    "\n",
    "\n",
    "\n",
    "    def estimate_gaussian(self,X):\n",
    "        m, n = X.shape\n",
    "        mu = np.zeros(n)\n",
    "        var = np.zeros(n)\n",
    "        # Calculate mu (mean) and var (variance) for each feature\n",
    "        for i in range(n):\n",
    "            mu[i] = np.sum(X[:, i]) / m\n",
    "            var[i] = np.sum((X[:, i] - mu[i]) ** 2) / m\n",
    "        return mu, var\n",
    "    def multivariate_gaussian(self,X):\n",
    "        k = len(self.mu)\n",
    "        sigma2 = np.diag(self.var)\n",
    "        X = X - self.mu\n",
    "        p = (1 / (np.power((2 * np.pi), k / 2) * np.sqrt(np.linalg.det(sigma2)))) *\\\n",
    "        np.exp(-0.5 * np.sum(np.dot(X, np.linalg.pinv(sigma2)) * X, axis=1))\n",
    "        return p\n",
    "\n",
    "    def select_threshold(self):\n",
    "        p_val ,x_val,y_val=self.cross_vlidation()\n",
    "        self.best_epsilon = 0\n",
    "        self.best_F1 = 0\n",
    "        F1 = 0\n",
    "\n",
    "        step_size = (max(p_val) - min(p_val)) / 1000\n",
    "\n",
    "        for epsilon in np.arange(min(p_val), max(p_val), step_size):\n",
    "\n",
    "            ### START CODE HERE ###\n",
    "            predictions = (p_val < epsilon)\n",
    "\n",
    "            tp = np.sum((predictions == 1) & (y_val == 1))\n",
    "            fp = np.sum((predictions == 1) & (y_val == 0))\n",
    "            fn = np.sum((predictions == 0) & (y_val == 1))\n",
    "\n",
    "\n",
    "            if tp + fp == 0:\n",
    "                precision = 0\n",
    "            else:\n",
    "                precision = tp / (tp + fp)\n",
    "\n",
    "            if tp + fn == 0:\n",
    "                recall = 0\n",
    "            else:\n",
    "                recall = tp / (tp + fn)\n",
    "\n",
    "\n",
    "            if precision + recall > 0:\n",
    "                F1 =( 2 * precision * recall) / (precision + recall)\n",
    "            else:\n",
    "                F1 = 0\n",
    "\n",
    "            if F1 > self.best_F1:\n",
    "                    self.best_F1 = F1\n",
    "                    self.best_epsilon = epsilon\n",
    "\n",
    "        return self.best_epsilon, self.best_F1\n",
    "\n",
    "    def fit(self):\n",
    "      self.best_epsilon, self.best_F1=self.select_threshold()\n",
    "      print(f\"best_epsilon: {self.best_epsilon} , best_F1: {self.best_F1}\")\n"
   ]
  },
  {
   "cell_type": "code",
   "execution_count": 18,
   "metadata": {
    "colab": {
     "base_uri": "https://localhost:8080/"
    },
    "id": "PiYAd9oY5uv4",
    "outputId": "c02b94b0-86e0-4ee9-d0bb-96c38775b523"
   },
   "outputs": [
    {
     "name": "stdout",
     "output_type": "stream",
     "text": [
      "best_epsilon: 0.0002668635789197943 , best_F1: 1.0\n"
     ]
    }
   ],
   "source": [
    "obj1=anomaly_detection()\n",
    "obj1.fit()"
   ]
  }
 ],
 "metadata": {
  "colab": {
   "provenance": []
  },
  "kernelspec": {
   "display_name": "Python 3",
   "name": "python3"
  },
  "language_info": {
   "name": "python"
  }
 },
 "nbformat": 4,
 "nbformat_minor": 0
}
